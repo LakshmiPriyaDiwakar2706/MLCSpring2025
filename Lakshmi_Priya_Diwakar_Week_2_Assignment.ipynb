{
  "nbformat": 4,
  "nbformat_minor": 0,
  "metadata": {
    "colab": {
      "provenance": [],
      "gpuType": "T4"
    },
    "kernelspec": {
      "name": "python3",
      "display_name": "Python 3"
    },
    "language_info": {
      "name": "python"
    },
    "accelerator": "GPU"
  },
  "cells": [
    {
      "cell_type": "markdown",
      "source": [
        "1. Write Python Code to print \"Hello,Colab!\"\n",
        "\n"
      ],
      "metadata": {
        "id": "ER4Z99q0U-5A"
      }
    },
    {
      "cell_type": "code",
      "source": [
        "print(\"Hello,Colab!\")"
      ],
      "metadata": {
        "colab": {
          "base_uri": "https://localhost:8080/"
        },
        "id": "dgg6dFEHVG6J",
        "outputId": "fc1c0b85-83f3-49d3-f58d-4b300e01f55e"
      },
      "execution_count": 1,
      "outputs": [
        {
          "output_type": "stream",
          "name": "stdout",
          "text": [
            "Hello,Colab!\n"
          ]
        }
      ]
    },
    {
      "cell_type": "markdown",
      "source": [
        "2. Create a list of numbers from 1 to 10 and print it.\n"
      ],
      "metadata": {
        "id": "rZ_ktoZUVN8C"
      }
    },
    {
      "cell_type": "code",
      "source": [
        "list_1 = []\n",
        "\n",
        "for i in range(0,10):\n",
        "  list_1.append(i+1)\n",
        "\n",
        "print(list_1)\n"
      ],
      "metadata": {
        "colab": {
          "base_uri": "https://localhost:8080/"
        },
        "id": "6QPlXx0TVLVy",
        "outputId": "3c5cd794-669d-4208-bd16-49370520c7f2"
      },
      "execution_count": 3,
      "outputs": [
        {
          "output_type": "stream",
          "name": "stdout",
          "text": [
            "[1, 2, 3, 4, 5, 6, 7, 8, 9, 10]\n"
          ]
        }
      ]
    },
    {
      "cell_type": "markdown",
      "source": [
        "3. Add a text cell with the following."
      ],
      "metadata": {
        "id": "Gd1e3xvKVxJj"
      }
    },
    {
      "cell_type": "markdown",
      "source": [
        "#My First Colab Assignment"
      ],
      "metadata": {
        "id": "sub6Jlg_V2cS"
      }
    },
    {
      "cell_type": "markdown",
      "source": [
        "The notebook contains basic function and data structure used in Python along with a code cell to change the runtime type to GPU and mounting google drive in the notebook."
      ],
      "metadata": {
        "id": "TeN-maY0WGK1"
      }
    },
    {
      "cell_type": "code",
      "source": [
        "import tensorflow as tf\n",
        "print(tf.test.gpu_device_name())"
      ],
      "metadata": {
        "colab": {
          "base_uri": "https://localhost:8080/"
        },
        "id": "HLENFA3OVke7",
        "outputId": "06500ccf-4d27-4c25-b82e-4cdc67b3f944"
      },
      "execution_count": 1,
      "outputs": [
        {
          "output_type": "stream",
          "name": "stdout",
          "text": [
            "/device:GPU:0\n"
          ]
        }
      ]
    },
    {
      "cell_type": "code",
      "source": [
        "%cd /content/drive/MyDrive/\n",
        "!ls"
      ],
      "metadata": {
        "colab": {
          "base_uri": "https://localhost:8080/"
        },
        "id": "48HBzc_IYjNj",
        "outputId": "33d8fb00-cf4a-44bd-f560-2aa93bf42566"
      },
      "execution_count": 6,
      "outputs": [
        {
          "output_type": "stream",
          "name": "stdout",
          "text": [
            "/content/drive/MyDrive\n",
            "'201 Presentation.gslides'\n",
            "'ADV 480 - Final Report.gdoc'\n",
            "'ADV 480 - Group Assignment (G0).gdoc'\n",
            "'ADV 480 - I3 - Proposal.gdoc'\n",
            "'Application Documents'\n",
            "'Application Documents (1)'\n",
            "'Behavioural Interview Questions.gdoc'\n",
            "'Colab Notebooks'\n",
            "'Copy of Data Engineering Study Guide - Outline (Make A Copy :) And Go From There).gsheet'\n",
            "'Executive Summary.gdoc'\n",
            "'Group Assignment - 1.gdoc'\n",
            "'Healthy Ageing Research Project.gsheet'\n",
            "' IRISK - PCMI - Final Group Report.gdoc'\n",
            "'IRISK - PCMI - Final Report.gdoc'\n",
            "' IS 407 Final Paper.gdoc'\n",
            "'IS 407 - Literature Review - Final Project Draft.gdoc'\n",
            "'IS 507 - Final Project draft.gdoc'\n",
            "'IS 507 - Final Project Group Formation & Dataset (HW Submission).gdoc'\n",
            "'IS 507 - Final Project Methods Rough Draft.gdoc'\n",
            "'Lakshmi Priya Diwakar_Resume (1).pdf'\n",
            "'Lakshmi Priya Diwakar_Resume (2).pdf'\n",
            "'Lakshmi Priya Diwakar_Resume (3).pdf'\n",
            "'Lakshmi Priya Diwakar_Resume.pdf'\n",
            "'Literature Review - Final Project Draft.gdoc'\n",
            "'Logistic Regression.gdoc'\n",
            "'Untitled document (1).gdoc'\n",
            "'Untitled document.gdoc'\n",
            "'Untitled spreadsheet.gsheet'\n",
            "'Week 6 - Clustering: E-commerce website.gslides'\n",
            "'Week 7 - User Persona and Website Features.gslides'\n",
            "'Week Twelve: A B Testing and Campaign Exercise.gslides'\n"
          ]
        }
      ]
    },
    {
      "cell_type": "code",
      "source": [
        "!git clone https://github.com/LakshmiPriyaDiwakar2706/MLCSpring2025"
      ],
      "metadata": {
        "colab": {
          "base_uri": "https://localhost:8080/"
        },
        "id": "uBI3E6K4Yvtw",
        "outputId": "b7086440-1f0d-498a-8ee1-21edc018396c"
      },
      "execution_count": 2,
      "outputs": [
        {
          "output_type": "stream",
          "name": "stdout",
          "text": [
            "Cloning into 'MLCSpring2025'...\n",
            "remote: Enumerating objects: 3, done.\u001b[K\n",
            "remote: Counting objects: 100% (3/3), done.\u001b[K\n",
            "remote: Total 3 (delta 0), reused 0 (delta 0), pack-reused 0 (from 0)\u001b[K\n",
            "Receiving objects: 100% (3/3), done.\n"
          ]
        }
      ]
    },
    {
      "cell_type": "code",
      "source": [],
      "metadata": {
        "id": "96OoOOo_ZwKJ"
      },
      "execution_count": null,
      "outputs": []
    }
  ]
}